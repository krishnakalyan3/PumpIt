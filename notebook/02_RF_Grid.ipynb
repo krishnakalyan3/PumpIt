{
 "cells": [
  {
   "cell_type": "code",
   "execution_count": 1,
   "metadata": {},
   "outputs": [],
   "source": [
    "%reload_ext autoreload\n",
    "%autoreload 2\n",
    "%matplotlib inline"
   ]
  },
  {
   "cell_type": "code",
   "execution_count": 2,
   "metadata": {},
   "outputs": [],
   "source": [
    "import numpy as np\n",
    "import matplotlib.pyplot as plt\n",
    "import pandas as pd\n",
    "from sklearn.datasets import load_boston\n",
    "from sklearn.ensemble import RandomForestClassifier\n",
    "from sklearn.pipeline import Pipeline\n",
    "from sklearn.preprocessing import Imputer\n",
    "from sklearn.model_selection import cross_val_score\n",
    "from sklearn.preprocessing import LabelEncoder\n",
    "from sklearn.preprocessing import Imputer"
   ]
  },
  {
   "cell_type": "code",
   "execution_count": 3,
   "metadata": {},
   "outputs": [],
   "source": [
    "UTILS = '/Users/krishnakalyan3/Educational/PumpIt/code/'\n",
    "import sys\n",
    "sys.path.append(UTILS)"
   ]
  },
  {
   "cell_type": "code",
   "execution_count": 4,
   "metadata": {},
   "outputs": [],
   "source": [
    "# Custom imports\n",
    "from utils import read_data, write_data, metrics, submit\n",
    "from param_config import config"
   ]
  },
  {
   "cell_type": "code",
   "execution_count": 5,
   "metadata": {},
   "outputs": [],
   "source": [
    "# Train Data\n",
    "train_x = read_data(config.d_xtrain)\n",
    "train_y = read_data(config.d_ytrain)\n",
    "\n",
    "# Test Data\n",
    "test_x = read_data(config.d_xtest)"
   ]
  },
  {
   "cell_type": "code",
   "execution_count": 6,
   "metadata": {},
   "outputs": [
    {
     "data": {
      "text/plain": [
       "RandomForestClassifier(bootstrap=True, class_weight=None, criterion='gini',\n",
       "            max_depth=None, max_features='auto', max_leaf_nodes=None,\n",
       "            min_impurity_decrease=0.0, min_impurity_split=None,\n",
       "            min_samples_leaf=1, min_samples_split=2,\n",
       "            min_weight_fraction_leaf=0.0, n_estimators=10, n_jobs=1,\n",
       "            oob_score=False, random_state=None, verbose=0,\n",
       "            warm_start=False)"
      ]
     },
     "execution_count": 6,
     "metadata": {},
     "output_type": "execute_result"
    }
   ],
   "source": [
    "RandomForestClassifier(n_estimators=10, criterion='gini', max_depth=None, \n",
    "                       min_samples_split=2, min_samples_leaf=1, min_weight_fraction_leaf=0.0, \n",
    "                       max_features='auto', max_leaf_nodes=None, min_impurity_decrease=0.0, \n",
    "                       min_impurity_split=None, bootstrap=True, oob_score=False, n_jobs=1,\n",
    "                       random_state=None, verbose=0, warm_start=False, class_weight=None)\n"
   ]
  },
  {
   "cell_type": "code",
   "execution_count": 7,
   "metadata": {},
   "outputs": [],
   "source": [
    "from sklearn.model_selection import GridSearchCV\n",
    "param_grid = {\"criterion\" : [\"gini\", \"entropy\"], \n",
    "              \n",
    "              \"min_samples_split\": [2,3,4,5,6],\n",
    "              \"min_samples_leaf\": np.arange(1,10, 1),\n",
    "              \"min_weight_fraction_leaf\": np.arange(0.1,0.4, 0.1),\n",
    "              \n",
    "              \"max_depth\": np.arange(1, 28, 1),\n",
    "              \"max_features\": ['auto', 'sqrt', 'log2'],\n",
    "              \"max_leaf_nodes\": np.arange(2,10,2),\n",
    "              \n",
    "              \"n_estimators\": [50, 100, 400, 700, 1000],\n",
    "              \n",
    "              # min_impurity_split\n",
    "              # min_impurity_decrease\n",
    "             }"
   ]
  },
  {
   "cell_type": "code",
   "execution_count": 8,
   "metadata": {},
   "outputs": [],
   "source": [
    "param_grid_1 = {\"criterion\" : [\"gini\", \"entropy\"]}\n",
    "param_grid_2 = {\"criterion\": [\"entropy\"], \"max_depth\": np.arange(1, 28, 1)}\n",
    "param_grid_3 = {\"criterion\": [\"entropy\"], \"max_depth\": [19], \"min_samples_split\": [2,3,4,5,6]}\n",
    "param_grid_3 = {\"criterion\": [\"entropy\"], \"max_depth\": [19], \"min_samples_split\": [2,3,4,5,6]}\n",
    "\n",
    "param_grid_4 = {\"criterion\": [\"entropy\"], \n",
    "                \"max_depth\": [19], \n",
    "                \"min_samples_split\": [4], \n",
    "                \"min_samples_leaf\": np.arange(1,10, 1)}\n",
    "\n",
    "param_grid_5 = {\"criterion\": [\"entropy\"], \n",
    "                \"max_depth\": [19], \n",
    "                \"min_samples_split\": [4], \n",
    "                \"min_samples_leaf\": [4],\n",
    "                \"max_features\": ['auto', 'sqrt', 'log2']\n",
    "               }\n",
    "\n",
    "param_grid_6 = {\"criterion\": [\"entropy\"], \n",
    "                \"max_depth\": [19], \n",
    "                \"min_samples_split\": [4], \n",
    "                \"min_samples_leaf\": [4],\n",
    "                \"max_features\": ['auto'],\n",
    "                \"min_weight_fraction_leaf\": np.arange(0.1,0.4, 0.1)\n",
    "               }\n",
    "\n",
    "param_grid_7 = {\"criterion\": [\"entropy\"], \n",
    "                \"max_depth\": [19], \n",
    "                \"min_samples_split\": [4], \n",
    "                \"min_samples_leaf\": [4],\n",
    "                \"max_features\": ['auto'],\n",
    "                \"min_weight_fraction_leaf\": [0.1],\n",
    "                \"max_leaf_nodes\": np.arange(2,10,2)\n",
    "               }\n",
    "\n",
    "param_grid_8 = {\"criterion\": [\"entropy\"], \n",
    "                \"max_depth\": [19], \n",
    "                \"min_samples_split\": [4], \n",
    "                \"min_samples_leaf\": [4],\n",
    "                \"max_features\": ['auto'],\n",
    "                \"min_weight_fraction_leaf\": [0.1],\n",
    "                \"max_leaf_nodes\": [8],\n",
    "                \"max_depth\": [4],\n",
    "                \"n_estimators\": [50]\n",
    "               }"
   ]
  },
  {
   "cell_type": "code",
   "execution_count": 9,
   "metadata": {},
   "outputs": [],
   "source": [
    "from sklearn.model_selection import GridSearchCV\n",
    "\n",
    "rf = RandomForestClassifier(max_features='auto', oob_score=False, random_state=1, n_jobs=-1, class_weight='balanced')\n",
    "clf = GridSearchCV(estimator=rf, param_grid=param_grid_8, scoring='accuracy', cv=5, n_jobs=-1)"
   ]
  },
  {
   "cell_type": "code",
   "execution_count": 10,
   "metadata": {},
   "outputs": [
    {
     "data": {
      "text/plain": [
       "GridSearchCV(cv=5, error_score='raise',\n",
       "       estimator=RandomForestClassifier(bootstrap=True, class_weight='balanced',\n",
       "            criterion='gini', max_depth=None, max_features='auto',\n",
       "            max_leaf_nodes=None, min_impurity_decrease=0.0,\n",
       "            min_impurity_split=None, min_samples_leaf=1,\n",
       "            min_samples_split=2, min_weight_fraction_leaf=0.0,\n",
       "            n_estimators=10, n_jobs=-1, oob_score=False, random_state=1,\n",
       "            verbose=0, warm_start=False),\n",
       "       fit_params=None, iid=True, n_jobs=-1,\n",
       "       param_grid={'criterion': ['entropy'], 'max_depth': [4], 'min_samples_split': [4], 'min_samples_leaf': [4], 'max_features': ['auto'], 'min_weight_fraction_leaf': [0.1], 'max_leaf_nodes': [8], 'n_estimators': [50]},\n",
       "       pre_dispatch='2*n_jobs', refit=True, return_train_score=True,\n",
       "       scoring='accuracy', verbose=0)"
      ]
     },
     "execution_count": 10,
     "metadata": {},
     "output_type": "execute_result"
    }
   ],
   "source": [
    "clf.fit(train_x, train_y)"
   ]
  },
  {
   "cell_type": "code",
   "execution_count": 11,
   "metadata": {},
   "outputs": [
    {
     "name": "stderr",
     "output_type": "stream",
     "text": [
      "/usr/local/lib/python3.6/site-packages/sklearn/model_selection/_search.py:747: DeprecationWarning: The grid_scores_ attribute was deprecated in version 0.18 in favor of the more elaborate cv_results_ attribute. The grid_scores_ attribute will not be available from 0.20\n",
      "  DeprecationWarning)\n"
     ]
    },
    {
     "data": {
      "text/plain": [
       "[mean: 0.53471, std: 0.00759, params: {'criterion': 'entropy', 'max_depth': 4, 'max_features': 'auto', 'max_leaf_nodes': 8, 'min_samples_leaf': 4, 'min_samples_split': 4, 'min_weight_fraction_leaf': 0.1, 'n_estimators': 50}]"
      ]
     },
     "execution_count": 11,
     "metadata": {},
     "output_type": "execute_result"
    }
   ],
   "source": [
    "clf.grid_scores_"
   ]
  },
  {
   "cell_type": "code",
   "execution_count": 12,
   "metadata": {},
   "outputs": [
    {
     "data": {
      "text/plain": [
       "{'criterion': 'entropy',\n",
       " 'max_depth': 4,\n",
       " 'max_features': 'auto',\n",
       " 'max_leaf_nodes': 8,\n",
       " 'min_samples_leaf': 4,\n",
       " 'min_samples_split': 4,\n",
       " 'min_weight_fraction_leaf': 0.1,\n",
       " 'n_estimators': 50}"
      ]
     },
     "execution_count": 12,
     "metadata": {},
     "output_type": "execute_result"
    }
   ],
   "source": [
    "clf.best_params_"
   ]
  },
  {
   "cell_type": "code",
   "execution_count": 14,
   "metadata": {},
   "outputs": [
    {
     "name": "stderr",
     "output_type": "stream",
     "text": [
      "/usr/local/lib/python3.6/site-packages/sklearn/model_selection/_search.py:747: DeprecationWarning: The grid_scores_ attribute was deprecated in version 0.18 in favor of the more elaborate cv_results_ attribute. The grid_scores_ attribute will not be available from 0.20\n",
      "  DeprecationWarning)\n"
     ]
    },
    {
     "data": {
      "text/plain": [
       "[mean: 0.53471, std: 0.00759, params: {'criterion': 'entropy', 'max_depth': 4, 'max_features': 'auto', 'max_leaf_nodes': 8, 'min_samples_leaf': 4, 'min_samples_split': 4, 'min_weight_fraction_leaf': 0.1, 'n_estimators': 50}]"
      ]
     },
     "execution_count": 14,
     "metadata": {},
     "output_type": "execute_result"
    }
   ],
   "source": [
    "clf.grid_scores_"
   ]
  },
  {
   "cell_type": "code",
   "execution_count": null,
   "metadata": {},
   "outputs": [],
   "source": [
    "from sklearn.model_selection import GridSearchCV\n",
    "def rf_grid_search():\n",
    "    rf = RandomForestClassifier(max_features='auto', oob_score=False, random_state=1, n_jobs=-1)\n",
    "    clf = GridSearchCV(estimator=rf, param_grid=params, scoring='accuracy', cv=5, n_jobs=-1)"
   ]
  },
  {
   "cell_type": "code",
   "execution_count": 88,
   "metadata": {},
   "outputs": [],
   "source": [
    "yhat_test = clf.predict(test_x)"
   ]
  },
  {
   "cell_type": "code",
   "execution_count": 89,
   "metadata": {},
   "outputs": [
    {
     "name": "stdout",
     "output_type": "stream",
     "text": [
      "file created\n"
     ]
    }
   ],
   "source": [
    "submit(yhat_test, 'rf_grid.csv')"
   ]
  },
  {
   "cell_type": "code",
   "execution_count": null,
   "metadata": {},
   "outputs": [],
   "source": []
  }
 ],
 "metadata": {
  "hide_input": false,
  "kernelspec": {
   "display_name": "Python 3",
   "language": "python",
   "name": "python3"
  },
  "language_info": {
   "codemirror_mode": {
    "name": "ipython",
    "version": 3
   },
   "file_extension": ".py",
   "mimetype": "text/x-python",
   "name": "python",
   "nbconvert_exporter": "python",
   "pygments_lexer": "ipython3",
   "version": "3.6.3"
  }
 },
 "nbformat": 4,
 "nbformat_minor": 2
}
