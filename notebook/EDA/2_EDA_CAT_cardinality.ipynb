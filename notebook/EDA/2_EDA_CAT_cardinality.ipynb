{
 "cells": [
  {
   "cell_type": "code",
   "execution_count": 1,
   "metadata": {},
   "outputs": [],
   "source": [
    "%reload_ext autoreload\n",
    "%autoreload 2\n",
    "%matplotlib inline"
   ]
  },
  {
   "cell_type": "code",
   "execution_count": 2,
   "metadata": {},
   "outputs": [],
   "source": [
    "import sys\n",
    "import numpy\n",
    "import matplotlib.pyplot as plt\n",
    "import pandas as pd"
   ]
  },
  {
   "cell_type": "code",
   "execution_count": 3,
   "metadata": {},
   "outputs": [],
   "source": [
    "DATA = '/Users/krishnakalyan3/Educational/PumpIt/data/original/'\n",
    "train_x = pd.read_csv(DATA + 'train_set_values.csv')\n",
    "test_x = pd.read_csv(DATA + 'test_set_values.csv')"
   ]
  },
  {
   "cell_type": "code",
   "execution_count": 4,
   "metadata": {},
   "outputs": [],
   "source": [
    "# Check cardinality of cateorigical columns"
   ]
  },
  {
   "cell_type": "code",
   "execution_count": 12,
   "metadata": {},
   "outputs": [],
   "source": [
    "data = {'id': 'cat',\n",
    "        'amount_tsh': 'num',\n",
    "        'date_recorded': 'cat',\n",
    "        'funder': 'cat',\n",
    "        'gps_height': 'num',\n",
    "        'installer': 'cat',\n",
    "        'longitude': 'num',\n",
    "        'latitude': 'num',\n",
    "        'wpt_name': 'cat',\n",
    "        'num_private': 'cat',\n",
    "        'basin': 'cat',\n",
    "        'subvillage': 'cat',\n",
    "        'region': 'cat',\n",
    "        'region_code': 'cat',\n",
    "        'district_code': 'cat',\n",
    "        'lga': 'cat',\n",
    "        'ward': 'cat',\n",
    "        'population': 'num',\n",
    "        'public_meeting': 'cat',\n",
    "        'recorded_by': 'cat',\n",
    "        'scheme_management': 'cat',\n",
    "        'scheme_name': 'cat',\n",
    "        'permit': 'cat',\n",
    "        'construction_year': 'cat',\n",
    "        'extraction_type': 'cat',\n",
    "        'extraction_type_group': 'cat',\n",
    "        'extraction_type_class': 'cat',\n",
    "        'management': 'cat',\n",
    "        'management_group': 'cat',\n",
    "        'payment': 'cat',\n",
    "        'payment_type': 'cat',\n",
    "        'water_quality': 'cat',\n",
    "        'quality_group': 'cat',\n",
    "        'quantity': 'cat',\n",
    "        'quantity_group': 'cat',\n",
    "        'source': 'cat',\n",
    "        'source_type': 'cat',\n",
    "        'source_class': 'cat',\n",
    "        'waterpoint_type': 'cat',\n",
    "        'waterpoint_type_group': 'cat',\n",
    "\n",
    "        # missing columns\n",
    "        'missing_funder': 'cat',\n",
    "        'missing_installer': 'cat',\n",
    "        'missing_subvillage': 'cat',\n",
    "        'missing_public_meeting': 'cat',\n",
    "        'missing_scheme_management': 'cat',\n",
    "        'missing_scheme_name': 'cat',\n",
    "        'missing_permit': 'cat',\n",
    "        'total_missing': 'num',\n",
    "\n",
    "        # kmeans\n",
    "        'kmeans_lat_long': 'cat',\n",
    "\n",
    "        # dates\n",
    "        'year': 'cat',\n",
    "        'month': 'cat',\n",
    "        'day': 'cat'}"
   ]
  },
  {
   "cell_type": "code",
   "execution_count": 13,
   "metadata": {},
   "outputs": [],
   "source": [
    "# cat columns "
   ]
  },
  {
   "cell_type": "code",
   "execution_count": 23,
   "metadata": {},
   "outputs": [
    {
     "name": "stdout",
     "output_type": "stream",
     "text": [
      "col:id card:59400\n",
      "col:date_recorded card:356\n",
      "col:funder card:1897\n",
      "col:installer card:2145\n",
      "col:wpt_name card:37400\n",
      "col:num_private card:65\n",
      "col:basin card:9\n",
      "col:subvillage card:19287\n",
      "col:region card:21\n",
      "col:region_code card:27\n",
      "col:district_code card:20\n",
      "col:lga card:125\n",
      "col:ward card:2092\n",
      "col:public_meeting card:2\n",
      "col:recorded_by card:1\n",
      "col:scheme_management card:12\n",
      "col:scheme_name card:2696\n",
      "col:permit card:2\n",
      "col:construction_year card:55\n",
      "col:extraction_type card:18\n",
      "col:extraction_type_group card:13\n",
      "col:extraction_type_class card:7\n",
      "col:management card:12\n",
      "col:management_group card:5\n",
      "col:payment card:7\n",
      "col:payment_type card:7\n",
      "col:water_quality card:8\n",
      "col:quality_group card:6\n",
      "col:quantity card:5\n",
      "col:quantity_group card:5\n",
      "col:source card:10\n",
      "col:source_type card:7\n",
      "col:source_class card:3\n",
      "col:waterpoint_type card:7\n",
      "col:waterpoint_type_group card:6\n"
     ]
    }
   ],
   "source": [
    "for i in train_x.columns:\n",
    "    if i in data and data[i] == 'cat':\n",
    "        print('col:{} card:{}'.format(i, train_x[i].nunique()))"
   ]
  },
  {
   "cell_type": "code",
   "execution_count": 24,
   "metadata": {},
   "outputs": [],
   "source": [
    "# conclusion"
   ]
  },
  {
   "cell_type": "code",
   "execution_count": null,
   "metadata": {},
   "outputs": [],
   "source": [
    "# recorded_by can be removed as it values are 0 every where\n",
    "# wpt_name, subvillage and id have alot of cardinality"
   ]
  }
 ],
 "metadata": {
  "kernelspec": {
   "display_name": "Python 3",
   "language": "python",
   "name": "python3"
  },
  "language_info": {
   "codemirror_mode": {
    "name": "ipython",
    "version": 3
   },
   "file_extension": ".py",
   "mimetype": "text/x-python",
   "name": "python",
   "nbconvert_exporter": "python",
   "pygments_lexer": "ipython3",
   "version": "3.6.3"
  }
 },
 "nbformat": 4,
 "nbformat_minor": 2
}
