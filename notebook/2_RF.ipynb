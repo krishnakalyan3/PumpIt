{
 "cells": [
  {
   "cell_type": "code",
   "execution_count": 1,
   "metadata": {},
   "outputs": [],
   "source": [
    "%reload_ext autoreload\n",
    "%autoreload 2\n",
    "%matplotlib inline"
   ]
  },
  {
   "cell_type": "code",
   "execution_count": 2,
   "metadata": {},
   "outputs": [],
   "source": [
    "import numpy\n",
    "import matplotlib.pyplot as plt\n",
    "import pandas as pd"
   ]
  },
  {
   "cell_type": "code",
   "execution_count": 33,
   "metadata": {},
   "outputs": [],
   "source": [
    "from sklearn.datasets import load_boston\n",
    "from sklearn.ensemble import RandomForestRegressor\n",
    "from sklearn.pipeline import Pipeline\n",
    "from sklearn.preprocessing import Imputer\n",
    "from sklearn.model_selection import cross_val_score\n",
    "from sklearn.preprocessing import LabelEncoder\n",
    "from sklearn.preprocessing import Imputer"
   ]
  },
  {
   "cell_type": "code",
   "execution_count": 3,
   "metadata": {},
   "outputs": [],
   "source": [
    "DATA = '/Users/krishnakalyan3/Educational/PumpIt/data/original'"
   ]
  },
  {
   "cell_type": "code",
   "execution_count": 30,
   "metadata": {},
   "outputs": [],
   "source": [
    "train_x = pd.read_csv(DATA + 'train_set_values.csv')\n",
    "train_y = pd.read_csv(DATA + 'train_set_labels.csv')\n",
    "test_x = pd.read_csv(DATA + 'test_set_labels.csv')"
   ]
  },
  {
   "cell_type": "markdown",
   "metadata": {},
   "source": [
    "`permit` has many NA values and is boolean. Hence handing it in the begining"
   ]
  },
  {
   "cell_type": "code",
   "execution_count": 160,
   "metadata": {},
   "outputs": [],
   "source": [
    "train_x['permit'].value_counts()\n",
    "train_x['permit'] = train_x['permit'].fillna(True)"
   ]
  },
  {
   "cell_type": "code",
   "execution_count": 161,
   "metadata": {},
   "outputs": [],
   "source": [
    "drop_cols = ['id']"
   ]
  },
  {
   "cell_type": "code",
   "execution_count": 162,
   "metadata": {},
   "outputs": [],
   "source": [
    "train_x_drop = train_x.drop(drop_cols, axis=1)\n",
    "train_x_drop_nafill = train_x_drop.fillna('NaN')"
   ]
  },
  {
   "cell_type": "code",
   "execution_count": 163,
   "metadata": {
    "scrolled": true
   },
   "outputs": [],
   "source": [
    "#train_x_drop_nafill.dtypes"
   ]
  },
  {
   "cell_type": "markdown",
   "metadata": {},
   "source": [
    "### Pre Processing\n",
    "- Handle NAs\n",
    "- Impute Missing Values\n",
    "- Label Encoder to encode cateorigical values\n",
    "- Random Forest Feature Importance"
   ]
  },
  {
   "cell_type": "code",
   "execution_count": 164,
   "metadata": {},
   "outputs": [],
   "source": [
    "df = train_x_drop_nafill"
   ]
  },
  {
   "cell_type": "code",
   "execution_count": 165,
   "metadata": {},
   "outputs": [],
   "source": [
    "objects_col = []\n",
    "for c in df.columns:\n",
    "        if df[c].dtype == 'object':\n",
    "            objects_col.append(c)\n",
    "            lbl = LabelEncoder()\n",
    "            lbl.fit(list(df[c].values))\n",
    "            df[c] = lbl.transform(list(df[c].values))"
   ]
  },
  {
   "cell_type": "code",
   "execution_count": 168,
   "metadata": {},
   "outputs": [
    {
     "data": {
      "text/html": [
       "<div>\n",
       "<style>\n",
       "    .dataframe thead tr:only-child th {\n",
       "        text-align: right;\n",
       "    }\n",
       "\n",
       "    .dataframe thead th {\n",
       "        text-align: left;\n",
       "    }\n",
       "\n",
       "    .dataframe tbody tr th {\n",
       "        vertical-align: top;\n",
       "    }\n",
       "</style>\n",
       "<table border=\"1\" class=\"dataframe\">\n",
       "  <thead>\n",
       "    <tr style=\"text-align: right;\">\n",
       "      <th></th>\n",
       "      <th>amount_tsh</th>\n",
       "      <th>date_recorded</th>\n",
       "      <th>funder</th>\n",
       "      <th>gps_height</th>\n",
       "      <th>installer</th>\n",
       "      <th>longitude</th>\n",
       "      <th>latitude</th>\n",
       "      <th>wpt_name</th>\n",
       "      <th>num_private</th>\n",
       "      <th>basin</th>\n",
       "      <th>...</th>\n",
       "      <th>payment_type</th>\n",
       "      <th>water_quality</th>\n",
       "      <th>quality_group</th>\n",
       "      <th>quantity</th>\n",
       "      <th>quantity_group</th>\n",
       "      <th>source</th>\n",
       "      <th>source_type</th>\n",
       "      <th>source_class</th>\n",
       "      <th>waterpoint_type</th>\n",
       "      <th>waterpoint_type_group</th>\n",
       "    </tr>\n",
       "  </thead>\n",
       "  <tbody>\n",
       "    <tr>\n",
       "      <th>0</th>\n",
       "      <td>6000.0</td>\n",
       "      <td>47</td>\n",
       "      <td>1370</td>\n",
       "      <td>1390</td>\n",
       "      <td>1519</td>\n",
       "      <td>34.938093</td>\n",
       "      <td>-9.856322</td>\n",
       "      <td>37399</td>\n",
       "      <td>0</td>\n",
       "      <td>1</td>\n",
       "      <td>...</td>\n",
       "      <td>0</td>\n",
       "      <td>6</td>\n",
       "      <td>2</td>\n",
       "      <td>1</td>\n",
       "      <td>1</td>\n",
       "      <td>8</td>\n",
       "      <td>6</td>\n",
       "      <td>0</td>\n",
       "      <td>1</td>\n",
       "      <td>1</td>\n",
       "    </tr>\n",
       "    <tr>\n",
       "      <th>1</th>\n",
       "      <td>0.0</td>\n",
       "      <td>309</td>\n",
       "      <td>469</td>\n",
       "      <td>1399</td>\n",
       "      <td>545</td>\n",
       "      <td>34.698766</td>\n",
       "      <td>-2.147466</td>\n",
       "      <td>37195</td>\n",
       "      <td>0</td>\n",
       "      <td>4</td>\n",
       "      <td>...</td>\n",
       "      <td>2</td>\n",
       "      <td>6</td>\n",
       "      <td>2</td>\n",
       "      <td>2</td>\n",
       "      <td>2</td>\n",
       "      <td>5</td>\n",
       "      <td>3</td>\n",
       "      <td>1</td>\n",
       "      <td>1</td>\n",
       "      <td>1</td>\n",
       "    </tr>\n",
       "    <tr>\n",
       "      <th>2</th>\n",
       "      <td>25.0</td>\n",
       "      <td>300</td>\n",
       "      <td>825</td>\n",
       "      <td>686</td>\n",
       "      <td>2049</td>\n",
       "      <td>37.460664</td>\n",
       "      <td>-3.821329</td>\n",
       "      <td>14572</td>\n",
       "      <td>0</td>\n",
       "      <td>5</td>\n",
       "      <td>...</td>\n",
       "      <td>5</td>\n",
       "      <td>6</td>\n",
       "      <td>2</td>\n",
       "      <td>1</td>\n",
       "      <td>1</td>\n",
       "      <td>0</td>\n",
       "      <td>1</td>\n",
       "      <td>1</td>\n",
       "      <td>2</td>\n",
       "      <td>1</td>\n",
       "    </tr>\n",
       "    <tr>\n",
       "      <th>3</th>\n",
       "      <td>0.0</td>\n",
       "      <td>272</td>\n",
       "      <td>1742</td>\n",
       "      <td>263</td>\n",
       "      <td>1853</td>\n",
       "      <td>38.486161</td>\n",
       "      <td>-11.155298</td>\n",
       "      <td>37285</td>\n",
       "      <td>0</td>\n",
       "      <td>7</td>\n",
       "      <td>...</td>\n",
       "      <td>2</td>\n",
       "      <td>6</td>\n",
       "      <td>2</td>\n",
       "      <td>0</td>\n",
       "      <td>0</td>\n",
       "      <td>3</td>\n",
       "      <td>0</td>\n",
       "      <td>0</td>\n",
       "      <td>2</td>\n",
       "      <td>1</td>\n",
       "    </tr>\n",
       "    <tr>\n",
       "      <th>4</th>\n",
       "      <td>0.0</td>\n",
       "      <td>104</td>\n",
       "      <td>20</td>\n",
       "      <td>0</td>\n",
       "      <td>119</td>\n",
       "      <td>31.130847</td>\n",
       "      <td>-1.825359</td>\n",
       "      <td>35529</td>\n",
       "      <td>0</td>\n",
       "      <td>4</td>\n",
       "      <td>...</td>\n",
       "      <td>2</td>\n",
       "      <td>6</td>\n",
       "      <td>2</td>\n",
       "      <td>3</td>\n",
       "      <td>3</td>\n",
       "      <td>5</td>\n",
       "      <td>3</td>\n",
       "      <td>1</td>\n",
       "      <td>1</td>\n",
       "      <td>1</td>\n",
       "    </tr>\n",
       "  </tbody>\n",
       "</table>\n",
       "<p>5 rows × 39 columns</p>\n",
       "</div>"
      ],
      "text/plain": [
       "   amount_tsh  date_recorded  funder  gps_height  installer  longitude  \\\n",
       "0      6000.0             47    1370        1390       1519  34.938093   \n",
       "1         0.0            309     469        1399        545  34.698766   \n",
       "2        25.0            300     825         686       2049  37.460664   \n",
       "3         0.0            272    1742         263       1853  38.486161   \n",
       "4         0.0            104      20           0        119  31.130847   \n",
       "\n",
       "    latitude  wpt_name  num_private  basin          ...            \\\n",
       "0  -9.856322     37399            0      1          ...             \n",
       "1  -2.147466     37195            0      4          ...             \n",
       "2  -3.821329     14572            0      5          ...             \n",
       "3 -11.155298     37285            0      7          ...             \n",
       "4  -1.825359     35529            0      4          ...             \n",
       "\n",
       "   payment_type  water_quality  quality_group  quantity  quantity_group  \\\n",
       "0             0              6              2         1               1   \n",
       "1             2              6              2         2               2   \n",
       "2             5              6              2         1               1   \n",
       "3             2              6              2         0               0   \n",
       "4             2              6              2         3               3   \n",
       "\n",
       "   source  source_type  source_class  waterpoint_type  waterpoint_type_group  \n",
       "0       8            6             0                1                      1  \n",
       "1       5            3             1                1                      1  \n",
       "2       0            1             1                2                      1  \n",
       "3       3            0             0                2                      1  \n",
       "4       5            3             1                1                      1  \n",
       "\n",
       "[5 rows x 39 columns]"
      ]
     },
     "execution_count": 168,
     "metadata": {},
     "output_type": "execute_result"
    }
   ],
   "source": [
    "df.head()"
   ]
  },
  {
   "cell_type": "code",
   "execution_count": 169,
   "metadata": {},
   "outputs": [],
   "source": [
    "lbl = LabelEncoder()\n",
    "lbl.fit(train_y['status_group'])\n",
    "y_hat = lbl.transform(train_y['status_group'])"
   ]
  },
  {
   "cell_type": "code",
   "execution_count": 170,
   "metadata": {},
   "outputs": [
    {
     "data": {
      "text/plain": [
       "RandomForestRegressor(bootstrap=True, criterion='mse', max_depth=None,\n",
       "           max_features=0.5, max_leaf_nodes=None,\n",
       "           min_impurity_decrease=0.0, min_impurity_split=None,\n",
       "           min_samples_leaf=3, min_samples_split=2,\n",
       "           min_weight_fraction_leaf=0.0, n_estimators=40, n_jobs=-1,\n",
       "           oob_score=True, random_state=None, verbose=0, warm_start=False)"
      ]
     },
     "execution_count": 170,
     "metadata": {},
     "output_type": "execute_result"
    }
   ],
   "source": [
    "samples = 10000\n",
    "m = RandomForestRegressor(n_estimators=40, min_samples_leaf=3, max_features=0.5, n_jobs=-1, oob_score=True)\n",
    "m.fit(df[:samples], y_hat[:samples])"
   ]
  },
  {
   "cell_type": "code",
   "execution_count": 171,
   "metadata": {},
   "outputs": [],
   "source": [
    "top_n = 100\n",
    "feature_importance = m.feature_importances_\n",
    "indices = np.argsort(importances)\n",
    "features = df.columns.values"
   ]
  },
  {
   "cell_type": "code",
   "execution_count": 172,
   "metadata": {},
   "outputs": [
    {
     "name": "stdout",
     "output_type": "stream",
     "text": [
      "recorded_by = 0.0\n",
      "num_private = 0.0007082904119359219\n",
      "water_quality = 0.003267358871379927\n",
      "payment_type = 0.00333863218875345\n",
      "source_type = 0.0034388127774135553\n",
      "management = 0.005358930473321598\n",
      "public_meeting = 0.009310608006830434\n",
      "source = 0.010601854570086078\n",
      "extraction_type = 0.01062527052820038\n",
      "payment = 0.011984109074623314\n",
      "extraction_type_class = 0.012581736577944586\n",
      "basin = 0.012958758626124015\n",
      "construction_year = 0.01315067937914273\n",
      "quantity_group = 0.01399248037311326\n",
      "region = 0.014352047327923995\n",
      "region_code = 0.014461605148201015\n",
      "scheme_management = 0.015055522091560487\n",
      "amount_tsh = 0.016418380843373426\n",
      "district_code = 0.017933163023993493\n",
      "management_group = 0.018074148446237417\n",
      "scheme_name = 0.02155452102609242\n",
      "extraction_type_group = 0.023300409478713115\n",
      "population = 0.024088210558865186\n",
      "installer = 0.025006869397163067\n",
      "lga = 0.025814271229579477\n",
      "gps_height = 0.028409612617952003\n",
      "funder = 0.02964697318342734\n",
      "ward = 0.03608889200822944\n",
      "waterpoint_type = 0.038379752439244894\n",
      "date_recorded = 0.04053962601533157\n",
      "wpt_name = 0.04193648548570273\n",
      "permit = 0.041938723714050205\n",
      "source_class = 0.0445835381254675\n",
      "subvillage = 0.04499391500247023\n",
      "latitude = 0.04937877333126224\n",
      "longitude = 0.062149216094052086\n",
      "quality_group = 0.10118078718475769\n",
      "quantity = 0.1133970343674797\n"
     ]
    }
   ],
   "source": [
    "for k,v in zip(importances[indices], features[indices]):\n",
    "    print('{} = {}'.format(v, k))"
   ]
  },
  {
   "cell_type": "code",
   "execution_count": 173,
   "metadata": {},
   "outputs": [
    {
     "data": {
      "image/png": "[encoded data removed]",
      "text/plain": [
       "<matplotlib.figure.Figure at 0x113a58f98>"
      ]
     },
     "metadata": {},
     "output_type": "display_data"
    }
   ],
   "source": [
    "plt.title('Feature Importances')\n",
    "plt.barh(range(len(indices)), importances[indices], color='b', align='center')\n",
    "plt.yticks(range(len(indices)), features[indices])\n",
    "plt.xlabel('Relative Importance')\n",
    "plt.show()"
   ]
  },
  {
   "cell_type": "markdown",
   "metadata": {},
   "source": [
    "### Conclusions \n",
    "- The top 3 featuers are `quantity_group`, `quantity` and `lat/long`\n",
    "- `recorded_by` dosent seem to be a useful variable\n",
    "- Building the model with top `10` variable should be a good start\n",
    "- Might make sence to try to understand  `quantity_group`, `quantity`\n",
    "1. quantity - The quantity of water\n",
    "2. quantity_group - The quantity of water"
   ]
  }
 ],
 "metadata": {
  "kernelspec": {
   "display_name": "Python 3",
   "language": "python",
   "name": "python3"
  },
  "language_info": {
   "codemirror_mode": {
    "name": "ipython",
    "version": 3
   },
   "file_extension": ".py",
   "mimetype": "text/x-python",
   "name": "python",
   "nbconvert_exporter": "python",
   "pygments_lexer": "ipython3",
   "version": "3.6.3"
  }
 },
 "nbformat": 4,
 "nbformat_minor": 2
}
