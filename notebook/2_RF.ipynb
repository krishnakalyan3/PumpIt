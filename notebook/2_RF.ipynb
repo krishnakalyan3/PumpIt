{
 "cells": [
  {
   "cell_type": "code",
   "execution_count": 9,
   "metadata": {},
   "outputs": [],
   "source": [
    "%reload_ext autoreload\n",
    "%autoreload 2\n",
    "%matplotlib inline"
   ]
  },
  {
   "cell_type": "code",
   "execution_count": 18,
   "metadata": {},
   "outputs": [],
   "source": [
    "import numpy as np\n",
    "import matplotlib.pyplot as plt\n",
    "import pandas as pd"
   ]
  },
  {
   "cell_type": "code",
   "execution_count": 30,
   "metadata": {},
   "outputs": [],
   "source": [
    "from sklearn.datasets import load_boston\n",
    "from sklearn.ensemble import RandomForestClassifier\n",
    "from sklearn.pipeline import Pipeline\n",
    "from sklearn.preprocessing import Imputer\n",
    "from sklearn.model_selection import cross_val_score\n",
    "from sklearn.preprocessing import LabelEncoder\n",
    "from sklearn.preprocessing import Imputer"
   ]
  },
  {
   "cell_type": "code",
   "execution_count": 12,
   "metadata": {},
   "outputs": [],
   "source": [
    "UTILS = '/Users/krishnakalyan3/Educational/PumpIt/code/'\n",
    "import sys\n",
    "sys.path.append(UTILS)"
   ]
  },
  {
   "cell_type": "code",
   "execution_count": 13,
   "metadata": {},
   "outputs": [],
   "source": [
    "# Custom imports\n",
    "from utils import read_data\n",
    "from utils import write_data\n",
    "from param_config import config"
   ]
  },
  {
   "cell_type": "code",
   "execution_count": 16,
   "metadata": {},
   "outputs": [],
   "source": [
    "# Train Data\n",
    "train_x = read_data(config.e_xtrain)\n",
    "train_y = read_data(config.e_ytrain)\n",
    "\n",
    "# Val Data\n",
    "val_x = read_data(config.e_xval)\n",
    "val_y = read_data(config.e_yval)"
   ]
  },
  {
   "cell_type": "code",
   "execution_count": 85,
   "metadata": {},
   "outputs": [
    {
     "data": {
      "text/plain": [
       "RandomForestClassifier(bootstrap=True, class_weight='balanced',\n",
       "            criterion='gini', max_depth=None, max_features=0.5,\n",
       "            max_leaf_nodes=None, min_impurity_decrease=0.0,\n",
       "            min_impurity_split=None, min_samples_leaf=3,\n",
       "            min_samples_split=2, min_weight_fraction_leaf=0.0,\n",
       "            n_estimators=40, n_jobs=-1, oob_score=True, random_state=None,\n",
       "            verbose=0, warm_start=False)"
      ]
     },
     "execution_count": 85,
     "metadata": {},
     "output_type": "execute_result"
    }
   ],
   "source": [
    "samples = 40000\n",
    "clf = RandomForestClassifier(n_estimators=40, min_samples_leaf=3, max_features=0.5, n_jobs=-1, oob_score=True, \n",
    "                           class_weight='balanced')\n",
    "clf.fit(train_x[:samples], train_y[:samples])"
   ]
  },
  {
   "cell_type": "code",
   "execution_count": 86,
   "metadata": {},
   "outputs": [],
   "source": [
    "feature_importance = clf.feature_importances_"
   ]
  },
  {
   "cell_type": "code",
   "execution_count": 87,
   "metadata": {},
   "outputs": [],
   "source": [
    "importance_list = []\n",
    "for k,v in zip(train_x.columns, feature_importance):\n",
    "    importance_list.append((k,v))"
   ]
  },
  {
   "cell_type": "code",
   "execution_count": 127,
   "metadata": {},
   "outputs": [
    {
     "data": {
      "text/plain": [
       "[('longitude', 0.10553521669071504),\n",
       " ('latitude', 0.073867606635185615),\n",
       " ('quantity_group', 0.063616182145691563),\n",
       " ('quantity', 0.057065998003645389),\n",
       " ('wpt_name', 0.052782804360293992),\n",
       " ('subvillage', 0.049052273715411474),\n",
       " ('date_recorded', 0.04491874261112825),\n",
       " ('construction_year', 0.039659288007529596),\n",
       " ('gps_height', 0.039184695227863879),\n",
       " ('ward', 0.032733147181199365),\n",
       " ('population', 0.028878377485947643),\n",
       " ('day', 0.02826381673969065),\n",
       " ('funder', 0.025910484457671079),\n",
       " ('waterpoint_type', 0.025175757069214467),\n",
       " ('lga', 0.024400187318985779),\n",
       " ('waterpoint_type_group', 0.023950928800135381),\n",
       " ('extraction_type_class', 0.022764903115088431),\n",
       " ('installer', 0.022542431851956771),\n",
       " ('scheme_name', 0.020157257678287292),\n",
       " ('day_week', 0.01846361686024758),\n",
       " ('district_code', 0.018034293829732324),\n",
       " ('region', 0.012790323733563504),\n",
       " ('source', 0.012523549472880082),\n",
       " ('payment', 0.01244358168524104),\n",
       " ('amount_tsh', 0.011780848639046312),\n",
       " ('payment_type', 0.011523361978720734),\n",
       " ('extraction_type_group', 0.011507233760589684),\n",
       " ('management', 0.010257808736526429),\n",
       " ('region_code', 0.0096248069081908798),\n",
       " ('month', 0.008325719919174749),\n",
       " ('extraction_type', 0.0082220242219353725),\n",
       " ('scheme_management', 0.0081054487481782445),\n",
       " ('source_type', 0.0080169512005382228),\n",
       " ('kmeans_lat_long', 0.007776115811288768),\n",
       " ('source_class', 0.0068553917136080968),\n",
       " ('basin', 0.0066820980046186111),\n",
       " ('total_missing', 0.0062510363693506297),\n",
       " ('permit', 0.0037786859026559235),\n",
       " ('management_group', 0.0037737161815022948),\n",
       " ('water_quality', 0.0034859566639952239),\n",
       " ('missing_scheme_name', 0.0033183990724441601),\n",
       " ('quality_group', 0.0030413984149424496),\n",
       " ('missing_public_meeting', 0.0027418445751582173),\n",
       " ('missing_scheme_management', 0.0021451085845656569),\n",
       " ('public_meeting', 0.0019429953545121025),\n",
       " ('year', 0.0017402708943204549),\n",
       " ('missing_permit', 0.0014313907440347726),\n",
       " ('missing_installer', 0.0011497912817459133),\n",
       " ('missing_funder', 0.00084551079915725171),\n",
       " ('num_private', 0.00052363669762460485),\n",
       " ('missing_subvillage', 0.00043698414426803449),\n",
       " ('recorded_by', 0.0)]"
      ]
     },
     "execution_count": 127,
     "metadata": {},
     "output_type": "execute_result"
    }
   ],
   "source": [
    "importance_list = sorted(importance_list, key=lambda x : x[1], reverse=True)\n",
    "importance_list"
   ]
  },
  {
   "cell_type": "code",
   "execution_count": 128,
   "metadata": {},
   "outputs": [],
   "source": [
    "# Make Plots\n",
    "top_n = 15"
   ]
  },
  {
   "cell_type": "code",
   "execution_count": 129,
   "metadata": {},
   "outputs": [],
   "source": [
    "imp_var = [k for k, _ in importance_list]\n",
    "val = [k for _, k in importance_list]"
   ]
  },
  {
   "cell_type": "code",
   "execution_count": 133,
   "metadata": {},
   "outputs": [
    {
     "data": {
      "image/png": "[encoded data removed]",
      "text/plain": [
       "<matplotlib.figure.Figure at 0x113341320>"
      ]
     },
     "metadata": {},
     "output_type": "display_data"
    }
   ],
   "source": [
    "plt.title('Feature Importances')\n",
    "plt.yticks(range(top_n), imp_var[0:top_n])\n",
    "plt.xlabel('Relative Importance')\n",
    "plt.barh(range(top_n), val[0:top_n], color='r', align='center')\n",
    "plt.show()"
   ]
  },
  {
   "cell_type": "code",
   "execution_count": null,
   "metadata": {},
   "outputs": [],
   "source": [
    "# Check if there is any relation between quantity_group, quantity"
   ]
  },
  {
   "cell_type": "code",
   "execution_count": 140,
   "metadata": {},
   "outputs": [
    {
     "data": {
      "text/plain": [
       "array([ 4976, 26598, 12117,  3206,   623])"
      ]
     },
     "execution_count": 140,
     "metadata": {},
     "output_type": "execute_result"
    }
   ],
   "source": [
    "np.bincount(train_x['quantity'])"
   ]
  },
  {
   "cell_type": "code",
   "execution_count": 141,
   "metadata": {},
   "outputs": [
    {
     "data": {
      "text/plain": [
       "array([ 4976, 26598, 12117,  3206,   623])"
      ]
     },
     "execution_count": 141,
     "metadata": {},
     "output_type": "execute_result"
    }
   ],
   "source": [
    "np.bincount(train_x['quantity_group'])"
   ]
  },
  {
   "cell_type": "code",
   "execution_count": 142,
   "metadata": {},
   "outputs": [],
   "source": [
    "# Check if there is any relation between wpt_name, subvillage"
   ]
  },
  {
   "cell_type": "code",
   "execution_count": null,
   "metadata": {},
   "outputs": [],
   "source": [
    "# Drop \n",
    "## quantity_group (same as quantity)\n",
    "## id (Unique Id)\n",
    "## recorded_by (1 Cardinality)"
   ]
  },
  {
   "cell_type": "code",
   "execution_count": null,
   "metadata": {},
   "outputs": [],
   "source": []
  },
  {
   "cell_type": "code",
   "execution_count": null,
   "metadata": {},
   "outputs": [],
   "source": [
    "col:id card:59400\n",
    "col:funder card:1897\n",
    "col:installer card:2145\n",
    "col:wpt_name card:37400\n",
    "col:subvillage card:19287\n",
    "col:date_recorded card:356\n",
    "col:num_private card:65\n",
    "col:lga card:125\n",
    "col:ward card:2092\n",
    "\n",
    "col:region_code card:27\n",
    "\n",
    "col:region card:21\n",
    "col:district_code card:20\n",
    "\n",
    "\n",
    "col:scheme_name card:2696\n",
    "\n",
    "col:construction_year card:55\n",
    "col:extraction_type card:18\n",
    "        \n",
    "col:extraction_type_group card:13\n",
    "\n",
    "col:management card:12\n",
    "col:scheme_management card:12\n",
    "\n",
    "col:source card:10\n",
    "\n",
    "col:basin card:9\n",
    "col:water_quality card:8\n",
    "\n",
    "col:extraction_type_class card:7\n",
    "col:payment card:7\n",
    "col:payment_type card:7\n",
    "col:source_type card:7\n",
    "col:waterpoint_type card:7\n",
    "        \n",
    "col:quality_group card:6\n",
    "col:waterpoint_type_group card:6\n",
    "        \n",
    "col:quantity card:5\n",
    "col:quantity_group card:5\n",
    "col:management_group card:5\n",
    "\n",
    "col:source_class card:3\n",
    "        \n",
    "col:public_meeting card:2\n",
    "col:permit card:2\n",
    "\n",
    "col:recorded_by card:1"
   ]
  },
  {
   "cell_type": "code",
   "execution_count": 153,
   "metadata": {},
   "outputs": [
    {
     "name": "stdout",
     "output_type": "stream",
     "text": [
      "[  527   662    75  1396  1603    60   454 32462   717  2347  2038  5179]\n",
      "[  841     1   607  1321   864    78    55 32617  2306  4121  2202  2507]\n"
     ]
    }
   ],
   "source": [
    "print(np.bincount(train_x['management']))\n",
    "print(np.bincount(train_x['scheme_management']))\n"
   ]
  },
  {
   "cell_type": "code",
   "execution_count": null,
   "metadata": {},
   "outputs": [],
   "source": []
  }
 ],
 "metadata": {
  "kernelspec": {
   "display_name": "Python 3",
   "language": "python",
   "name": "python3"
  },
  "language_info": {
   "codemirror_mode": {
    "name": "ipython",
    "version": 3
   },
   "file_extension": ".py",
   "mimetype": "text/x-python",
   "name": "python",
   "nbconvert_exporter": "python",
   "pygments_lexer": "ipython3",
   "version": "3.6.3"
  }
 },
 "nbformat": 4,
 "nbformat_minor": 2
}
